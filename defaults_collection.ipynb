{
 "cells": [
  {
   "cell_type": "code",
   "execution_count": 1,
   "metadata": {
    "id": "vQFwVFSnhmmb"
   },
   "outputs": [],
   "source": [
    "import pandas as pd\n",
    "import numpy as np"
   ]
  },
  {
   "cell_type": "code",
   "execution_count": 2,
   "metadata": {
    "colab": {
     "base_uri": "https://localhost:8080/",
     "height": 206
    },
    "id": "lOD3hfCumsJB",
    "outputId": "0fc0660e-163f-4774-cc33-b991385f5d4c"
   },
   "outputs": [
    {
     "data": {
      "text/html": [
       "<div>\n",
       "<style scoped>\n",
       "    .dataframe tbody tr th:only-of-type {\n",
       "        vertical-align: middle;\n",
       "    }\n",
       "\n",
       "    .dataframe tbody tr th {\n",
       "        vertical-align: top;\n",
       "    }\n",
       "\n",
       "    .dataframe thead th {\n",
       "        text-align: right;\n",
       "    }\n",
       "</style>\n",
       "<table border=\"1\" class=\"dataframe\">\n",
       "  <thead>\n",
       "    <tr style=\"text-align: right;\">\n",
       "      <th></th>\n",
       "      <th>Unnamed: 0</th>\n",
       "      <th>Name</th>\n",
       "      <th>REGN_GKO</th>\n",
       "      <th>Reason</th>\n",
       "      <th>Date</th>\n",
       "      <th>City</th>\n",
       "      <th>Quarter</th>\n",
       "      <th>Year</th>\n",
       "    </tr>\n",
       "  </thead>\n",
       "  <tbody>\n",
       "    <tr>\n",
       "      <th>0</th>\n",
       "      <td>391</td>\n",
       "      <td>Эргобанк</td>\n",
       "      <td>2856</td>\n",
       "      <td>отозв.</td>\n",
       "      <td>2016-01-15</td>\n",
       "      <td>Москва</td>\n",
       "      <td>1</td>\n",
       "      <td>2016</td>\n",
       "    </tr>\n",
       "    <tr>\n",
       "      <th>1</th>\n",
       "      <td>388</td>\n",
       "      <td>Турбобанк</td>\n",
       "      <td>3203</td>\n",
       "      <td>отозв.</td>\n",
       "      <td>2016-01-21</td>\n",
       "      <td>Санкт-Петербург</td>\n",
       "      <td>1</td>\n",
       "      <td>2016</td>\n",
       "    </tr>\n",
       "    <tr>\n",
       "      <th>2</th>\n",
       "      <td>389</td>\n",
       "      <td>Внешпромбанк</td>\n",
       "      <td>3261</td>\n",
       "      <td>отозв.</td>\n",
       "      <td>2016-01-21</td>\n",
       "      <td>Москва</td>\n",
       "      <td>1</td>\n",
       "      <td>2016</td>\n",
       "    </tr>\n",
       "    <tr>\n",
       "      <th>3</th>\n",
       "      <td>390</td>\n",
       "      <td>Мираф-Банк</td>\n",
       "      <td>2244</td>\n",
       "      <td>отозв.</td>\n",
       "      <td>2016-01-21</td>\n",
       "      <td>Омск</td>\n",
       "      <td>1</td>\n",
       "      <td>2016</td>\n",
       "    </tr>\n",
       "    <tr>\n",
       "      <th>4</th>\n",
       "      <td>387</td>\n",
       "      <td>Межтрастбанк</td>\n",
       "      <td>2493</td>\n",
       "      <td>отозв.</td>\n",
       "      <td>2016-01-29</td>\n",
       "      <td>Москва</td>\n",
       "      <td>1</td>\n",
       "      <td>2016</td>\n",
       "    </tr>\n",
       "  </tbody>\n",
       "</table>\n",
       "</div>"
      ],
      "text/plain": [
       "   Unnamed: 0          Name REGN_GKO  Reason       Date             City  \\\n",
       "0         391      Эргобанк     2856  отозв. 2016-01-15           Москва   \n",
       "1         388     Турбобанк     3203  отозв. 2016-01-21  Санкт-Петербург   \n",
       "2         389  Внешпромбанк     3261  отозв. 2016-01-21           Москва   \n",
       "3         390    Мираф-Банк     2244  отозв. 2016-01-21             Омск   \n",
       "4         387  Межтрастбанк     2493  отозв. 2016-01-29           Москва   \n",
       "\n",
       "   Quarter  Year  \n",
       "0        1  2016  \n",
       "1        1  2016  \n",
       "2        1  2016  \n",
       "3        1  2016  \n",
       "4        1  2016  "
      ]
     },
     "execution_count": 2,
     "metadata": {},
     "output_type": "execute_result"
    }
   ],
   "source": [
    "defaults = pd.read_excel('defaults.xlsx')\n",
    "defaults.head()"
   ]
  },
  {
   "cell_type": "code",
   "execution_count": 3,
   "metadata": {
    "id": "TaUJiNHd4awg"
   },
   "outputs": [],
   "source": [
    "# приведем кварталы к единому формату\n",
    "defaults['YYYYMMDD'] = defaults['Year'].astype(str) + ((defaults['Quarter'] - 1)*3 + 1).astype(str).str.zfill(2) + '01'\n",
    "\n",
    "# добавляем столбец с признаком дефолта\n",
    "defaults['Default'] = 1"
   ]
  },
  {
   "cell_type": "code",
   "execution_count": 4,
   "metadata": {
    "id": "oF4x-zSL_41k"
   },
   "outputs": [
    {
     "name": "stderr",
     "output_type": "stream",
     "text": [
      "/var/folders/vs/c62j7d552lg2lxh0fhdz26640000gn/T/ipykernel_32091/897655061.py:4: SettingWithCopyWarning: \n",
      "A value is trying to be set on a copy of a slice from a DataFrame.\n",
      "Try using .loc[row_indexer,col_indexer] = value instead\n",
      "\n",
      "See the caveats in the documentation: https://pandas.pydata.org/pandas-docs/stable/user_guide/indexing.html#returning-a-view-versus-a-copy\n",
      "  data_defaults.loc[:, 'REGN_GKO'] = pd.to_numeric(data_defaults['REGN_GKO'], errors='coerce')\n",
      "/var/folders/vs/c62j7d552lg2lxh0fhdz26640000gn/T/ipykernel_32091/897655061.py:4: DeprecationWarning: In a future version, `df.iloc[:, i] = newvals` will attempt to set the values inplace instead of always setting a new array. To retain the old behavior, use either `df[df.columns[i]] = newvals` or, if columns are non-unique, `df.isetitem(i, newvals)`\n",
      "  data_defaults.loc[:, 'REGN_GKO'] = pd.to_numeric(data_defaults['REGN_GKO'], errors='coerce')\n",
      "/var/folders/vs/c62j7d552lg2lxh0fhdz26640000gn/T/ipykernel_32091/897655061.py:6: DeprecationWarning: In a future version, `df.iloc[:, i] = newvals` will attempt to set the values inplace instead of always setting a new array. To retain the old behavior, use either `df[df.columns[i]] = newvals` or, if columns are non-unique, `df.isetitem(i, newvals)`\n",
      "  data_defaults.loc[:, 'REGN_GKO'] = data_defaults['REGN_GKO'].astype('int64')\n"
     ]
    }
   ],
   "source": [
    "data_defaults = defaults[['REGN_GKO', 'YYYYMMDD', 'Default']]\n",
    "\n",
    "# переводим номер лицензии в числовой и убираем небанковские организации (у них лицензия с \"-К\")\n",
    "data_defaults.loc[:, 'REGN_GKO'] = pd.to_numeric(data_defaults['REGN_GKO'], errors='coerce')\n",
    "data_defaults = data_defaults.dropna(subset=['REGN_GKO'])\n",
    "data_defaults.loc[:, 'REGN_GKO'] = data_defaults['REGN_GKO'].astype('int64')"
   ]
  },
  {
   "cell_type": "code",
   "execution_count": 5,
   "metadata": {
    "colab": {
     "base_uri": "https://localhost:8080/",
     "height": 206
    },
    "id": "snAsgSg8AXcE",
    "outputId": "46694fe0-3801-44d4-eef0-3775905a5064"
   },
   "outputs": [
    {
     "data": {
      "text/html": [
       "<div>\n",
       "<style scoped>\n",
       "    .dataframe tbody tr th:only-of-type {\n",
       "        vertical-align: middle;\n",
       "    }\n",
       "\n",
       "    .dataframe tbody tr th {\n",
       "        vertical-align: top;\n",
       "    }\n",
       "\n",
       "    .dataframe thead th {\n",
       "        text-align: right;\n",
       "    }\n",
       "</style>\n",
       "<table border=\"1\" class=\"dataframe\">\n",
       "  <thead>\n",
       "    <tr style=\"text-align: right;\">\n",
       "      <th></th>\n",
       "      <th>REGN_GKO</th>\n",
       "      <th>YYYYMMDD</th>\n",
       "      <th>Default</th>\n",
       "    </tr>\n",
       "  </thead>\n",
       "  <tbody>\n",
       "    <tr>\n",
       "      <th>0</th>\n",
       "      <td>2856</td>\n",
       "      <td>20160101</td>\n",
       "      <td>1</td>\n",
       "    </tr>\n",
       "    <tr>\n",
       "      <th>1</th>\n",
       "      <td>3203</td>\n",
       "      <td>20160101</td>\n",
       "      <td>1</td>\n",
       "    </tr>\n",
       "    <tr>\n",
       "      <th>2</th>\n",
       "      <td>3261</td>\n",
       "      <td>20160101</td>\n",
       "      <td>1</td>\n",
       "    </tr>\n",
       "    <tr>\n",
       "      <th>3</th>\n",
       "      <td>2244</td>\n",
       "      <td>20160101</td>\n",
       "      <td>1</td>\n",
       "    </tr>\n",
       "    <tr>\n",
       "      <th>4</th>\n",
       "      <td>2493</td>\n",
       "      <td>20160101</td>\n",
       "      <td>1</td>\n",
       "    </tr>\n",
       "  </tbody>\n",
       "</table>\n",
       "</div>"
      ],
      "text/plain": [
       "   REGN_GKO  YYYYMMDD  Default\n",
       "0      2856  20160101        1\n",
       "1      3203  20160101        1\n",
       "2      3261  20160101        1\n",
       "3      2244  20160101        1\n",
       "4      2493  20160101        1"
      ]
     },
     "execution_count": 5,
     "metadata": {},
     "output_type": "execute_result"
    }
   ],
   "source": [
    "data_defaults.head()"
   ]
  },
  {
   "cell_type": "code",
   "execution_count": 6,
   "metadata": {
    "id": "lP1T2C7XIvE0"
   },
   "outputs": [],
   "source": [
    "data_defaults.to_csv('data/data_defaults.csv')"
   ]
  }
 ],
 "metadata": {
  "colab": {
   "provenance": []
  },
  "kernelspec": {
   "display_name": "Python 3 (ipykernel)",
   "language": "python",
   "name": "python3"
  },
  "language_info": {
   "codemirror_mode": {
    "name": "ipython",
    "version": 3
   },
   "file_extension": ".py",
   "mimetype": "text/x-python",
   "name": "python",
   "nbconvert_exporter": "python",
   "pygments_lexer": "ipython3",
   "version": "3.10.14"
  }
 },
 "nbformat": 4,
 "nbformat_minor": 4
}
