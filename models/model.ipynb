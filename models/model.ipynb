{
 "cells": [
  {
   "cell_type": "code",
   "execution_count": 1,
   "id": "604c55eb-2d94-449c-9f49-27528b860b33",
   "metadata": {},
   "outputs": [],
   "source": [
    "import pandas as pd\n",
    "import numpy as np\n",
    "\n",
    "from linearmodels import PooledOLS, PanelOLS\n",
    "from linearmodels.panel import RandomEffects, compare\n",
    "import statsmodels.api as sm\n",
    "import statsmodels.formula.api as smf"
   ]
  },
  {
   "cell_type": "code",
   "execution_count": 2,
   "id": "e2301e0c-3dd5-4e8e-9846-96af0cd209bb",
   "metadata": {},
   "outputs": [],
   "source": [
    "defaults = pd.read_csv('../data/data_defaults.csv', index_col=0, names=['REGN_GKO', 'DATE', 'DEFAULT'],\n",
    "                      skiprows=1)\n",
    "defaults.DATE = pd.to_datetime(defaults.DATE, format='%Y%m%d')\n",
    "regressors = pd.read_csv('../data/final_data.csv', index_col=0)\n",
    "regressors.DATE = pd.to_datetime(regressors.DATE, format='%Y-%m-%d')"
   ]
  },
  {
   "cell_type": "code",
   "execution_count": 3,
   "id": "adc24481-8133-4a91-b783-ead3b9ce4b0b",
   "metadata": {},
   "outputs": [],
   "source": [
    "final = regressors.merge(defaults, how='left', on=['REGN_GKO', 'DATE']).set_index(['REGN_GKO', 'DATE'])\n",
    "final.DEFAULT = final.DEFAULT.fillna(0)\n",
    "\n",
    "final.DEFAULT = final.DEFAULT + final.DEFAULT.shift(-1) + final.DEFAULT.shift(-2) + final.DEFAULT.shift(-3) + final.DEFAULT.shift(-4)\n",
    "final.DEFAULT = final.DEFAULT.fillna(0)\n",
    "\n",
    "final = final.fillna(method='ffill').dropna()"
   ]
  },
  {
   "cell_type": "code",
   "execution_count": 4,
   "id": "8ff892a6-55f1-4d24-9a6c-f4fca0a9e21d",
   "metadata": {},
   "outputs": [],
   "source": [
    "final.replace([np.inf, -np.inf], np.nan, inplace=True)"
   ]
  },
  {
   "cell_type": "code",
   "execution_count": 5,
   "id": "921f4a7b-5a62-4d8c-8aa3-f8300ba23bff",
   "metadata": {},
   "outputs": [],
   "source": [
    "final.to_csv('final.csv')"
   ]
  },
  {
   "cell_type": "code",
   "execution_count": 6,
   "id": "15063924-78f2-4da8-8093-f1f5ef3beead",
   "metadata": {},
   "outputs": [],
   "source": [
    "X = sm.add_constant(final.drop(columns='DEFAULT').fillna(method='ffill'))\n",
    "y = final.DEFAULT"
   ]
  },
  {
   "cell_type": "code",
   "execution_count": 7,
   "id": "11ab21f1-13b7-475e-982f-2701e6ebbd31",
   "metadata": {},
   "outputs": [
    {
     "name": "stdout",
     "output_type": "stream",
     "text": [
      "                          PooledOLS Estimation Summary                          \n",
      "================================================================================\n",
      "Dep. Variable:                DEFAULT   R-squared:                        0.0195\n",
      "Estimator:                  PooledOLS   R-squared (Between):              0.1227\n",
      "No. Observations:                1814   R-squared (Within):              -0.0095\n",
      "Date:                Tue, Jun 04 2024   R-squared (Overall):              0.0195\n",
      "Time:                        12:10:12   Log-likelihood                    642.70\n",
      "Cov. Estimator:             Clustered                                           \n",
      "                                        F-statistic:                      3.5936\n",
      "Entities:                          91   P-value                           0.0001\n",
      "Avg Obs:                       19.934   Distribution:                 F(10,1803)\n",
      "Min Obs:                       14.000                                           \n",
      "Max Obs:                       20.000   F-statistic (robust):             5.4843\n",
      "                                        P-value                           0.0000\n",
      "Time periods:                      20   Distribution:                 F(10,1803)\n",
      "Avg Obs:                       90.700                                           \n",
      "Min Obs:                       90.000                                           \n",
      "Max Obs:                       91.000                                           \n",
      "                                                                                \n",
      "                               Parameter Estimates                                \n",
      "==================================================================================\n",
      "                Parameter  Std. Err.     T-stat    P-value    Lower CI    Upper CI\n",
      "----------------------------------------------------------------------------------\n",
      "const             -0.0119     0.0123    -0.9702     0.3321     -0.0360      0.0122\n",
      "MAX_NORM       -3.185e-05  3.291e-05    -0.9678     0.3333  -9.639e-05   3.269e-05\n",
      "CAP_TO_NA         -0.0007     0.0011    -0.6692     0.5034     -0.0028      0.0014\n",
      "RES_TO_NA         7.8e-08  1.996e-07     0.3909     0.6959  -3.134e-07   4.694e-07\n",
      "NA             -7.359e-13   9.56e-13    -0.7698     0.4415  -2.611e-12   1.139e-12\n",
      "BI_TO_NA        3.576e-07  5.838e-07     0.6126     0.5402  -7.873e-07   1.503e-06\n",
      "NI_TO_NA        -1.25e-05  5.504e-06    -2.2715     0.0232   -2.33e-05  -1.707e-06\n",
      "L_NORM          4.768e-05  2.339e-05     2.0387     0.0416    1.81e-06   9.355e-05\n",
      "I_NORM             0.0015     0.0071     0.2068     0.8362     -0.0125      0.0154\n",
      "IS_SZKO            0.0282     0.0048     5.8890     0.0000      0.0188      0.0375\n",
      "REGISTERED_MSC     0.0126     0.0082     1.5336     0.1253     -0.0035      0.0286\n",
      "==================================================================================\n"
     ]
    }
   ],
   "source": [
    "lm_pooled = PooledOLS(y, X).fit(cov_type=\"clustered\")\n",
    "print(lm_pooled.summary)"
   ]
  },
  {
   "cell_type": "code",
   "execution_count": 8,
   "id": "5d815437-4a4f-4c0d-ba67-a592b6b80c34",
   "metadata": {},
   "outputs": [
    {
     "name": "stdout",
     "output_type": "stream",
     "text": [
      "Warning: Maximum number of iterations has been exceeded.\n",
      "         Current function value: 0.129842\n",
      "         Iterations: 35\n",
      "                           Logit Regression Results                           \n",
      "==============================================================================\n",
      "Dep. Variable:                DEFAULT   No. Observations:                 1814\n",
      "Model:                          Logit   Df Residuals:                     1803\n",
      "Method:                           MLE   Df Model:                           10\n",
      "Date:                Tue, 04 Jun 2024   Pseudo R-squ.:                 0.04423\n",
      "Time:                        12:10:12   Log-Likelihood:                -235.53\n",
      "converged:                      False   LL-Null:                       -246.44\n",
      "Covariance Type:                  HC0   LLR p-value:                   0.01615\n",
      "==================================================================================\n",
      "                     coef    std err          z      P>|z|      [0.025      0.975]\n",
      "----------------------------------------------------------------------------------\n",
      "const            -24.5901      0.433    -56.765      0.000     -25.439     -23.741\n",
      "MAX_NORM          -0.0017      0.001     -1.184      0.236      -0.005       0.001\n",
      "CAP_TO_NA         -0.0264      0.026     -1.005      0.315      -0.078       0.025\n",
      "RES_TO_NA        1.28e-05   4.92e-05      0.260      0.795   -8.37e-05       0.000\n",
      "NA              -1.71e-11   2.02e-11     -0.845      0.398   -5.68e-11    2.26e-11\n",
      "BI_TO_NA           0.0689      0.018      3.735      0.000       0.033       0.105\n",
      "NI_TO_NA          -0.0762      0.020     -3.885      0.000      -0.115      -0.038\n",
      "L_NORM             0.0004      0.000      3.387      0.001       0.000       0.001\n",
      "I_NORM             0.0966      0.229      0.421      0.674      -0.353       0.546\n",
      "IS_SZKO           20.9231      0.163    128.430      0.000      20.604      21.242\n",
      "REGISTERED_MSC     0.4446      0.309      1.437      0.151      -0.162       1.051\n",
      "==================================================================================\n"
     ]
    },
    {
     "name": "stderr",
     "output_type": "stream",
     "text": [
      "/opt/anaconda3/lib/python3.10/site-packages/statsmodels/discrete/discrete_model.py:1819: RuntimeWarning: overflow encountered in exp\n",
      "  return 1/(1+np.exp(-X))\n",
      "/opt/anaconda3/lib/python3.10/site-packages/statsmodels/base/model.py:604: ConvergenceWarning: Maximum Likelihood optimization failed to converge. Check mle_retvals\n",
      "  warnings.warn(\"Maximum Likelihood optimization failed to \"\n",
      "/opt/anaconda3/lib/python3.10/site-packages/statsmodels/discrete/discrete_model.py:1819: RuntimeWarning: overflow encountered in exp\n",
      "  return 1/(1+np.exp(-X))\n"
     ]
    }
   ],
   "source": [
    "model = sm.Logit(y, X).fit(cov_type='HC0')\n",
    "\n",
    "# Выводим результаты\n",
    "print(model.summary())"
   ]
  },
  {
   "cell_type": "code",
   "execution_count": 9,
   "id": "a56d741e-fadc-4364-8fb9-d90ec5254150",
   "metadata": {},
   "outputs": [],
   "source": [
    "import collections.abc\n",
    "collections.Iterable = collections.abc.Iterable\n",
    "import pylogit as pl"
   ]
  },
  {
   "cell_type": "code",
   "execution_count": 10,
   "id": "84769e8c-ba60-4741-a64c-2113b663383a",
   "metadata": {},
   "outputs": [],
   "source": [
    "# The 'alt_id_column' is the name of a column to be created in the long-format data\n",
    "# It will identify the alternative associated with each row.\n",
    "alt_id_column = \"DATE\"\n",
    "\n",
    "# The \"obs_id_column\" is a custom id column that ignores the fact that this is a \n",
    "# panel/repeated-observations dataset. This column denotes each individual choice\n",
    "# situation.\n",
    "obs_id_column = \"REGN_GKO\"\n",
    "\n",
    "# The \"choice_column\" records the name of the column that denotes whether or not each\n",
    "# individual chose the alternative on a given row.\n",
    "choice_column = \"DEFAULT\""
   ]
  },
  {
   "cell_type": "code",
   "execution_count": 11,
   "id": "39a67aa8-3fa2-4cc1-9b81-6ab9d9f587fd",
   "metadata": {},
   "outputs": [],
   "source": [
    "from collections import OrderedDict\n",
    "basic_specification = OrderedDict()\n",
    "\n",
    "basic_specification['MAX_NORM'] = [1] \n",
    "basic_specification['CAP_TO_NA'] = [1]  \n",
    "basic_specification['RES_TO_NA'] = [1]\n",
    "basic_specification['NA'] = [1]\n",
    "basic_specification['BI_TO_NA'] = [1]\n",
    "basic_specification['NI_TO_NA'] = [1]\n",
    "basic_specification['L_NORM'] = [1]\n",
    "basic_specification['I_NORM'] = [1]\n",
    "basic_specification['IS_SZKO'] = [1]\n",
    "basic_specification['REGISTERED_MSC'] = [1]"
   ]
  },
  {
   "cell_type": "code",
   "execution_count": 12,
   "id": "83051fc8-3dbf-459d-8f0f-6c58ca76f555",
   "metadata": {},
   "outputs": [],
   "source": [
    "basic_names = OrderedDict()\n",
    "\n",
    "basic_names[\"MAX_NORM\"] = 'Н7'\n",
    "basic_names[\"CAP_TO_NA\"] = 'Капитал к резервам'\n",
    "basic_names[\"RES_TO_NA\"] = 'Резервы к чистым активам'\n",
    "basic_names[\"NA\"] = 'Чистые активы'\n",
    "basic_names[\"BI_TO_NA\"] = 'Балансовая прибыль к чистым активам'\n",
    "basic_names[\"NI_TO_NA\"] = 'Чистая прибыль к чистым активам'\n",
    "basic_names[\"L_NORM\"] = 'Н3'\n",
    "basic_names[\"I_NORM\"] = 'Н10.1'\n",
    "basic_names[\"IS_SZKO\"] = 'СЗКО'\n",
    "basic_names[\"REGISTERED_MSC\"] = 'Рег Москва'\n",
    "basic_names[\"DEFAULT\"] = 'Дефолт'"
   ]
  },
  {
   "cell_type": "code",
   "execution_count": 18,
   "id": "c590b0f0-1389-4a60-9ef1-885413a440e3",
   "metadata": {},
   "outputs": [],
   "source": [
    "#logit = pl.create_choice_model(data=final.reset_index().fillna(method='ffill'),\n",
    "#                               alt_id_col=alt_id_column,\n",
    "#                               obs_id_col=obs_id_column,\n",
    "#                               choice_col=choice_column,\n",
    "#                               specification=basic_specification,\n",
    "#                               model_type=\"MNL\",\n",
    "#                               names=basic_names)\n",
    "\n",
    "#logit.fit_mle(np.zeros(14))\n",
    "\n",
    "#logit.get_statsmodels_summary()"
   ]
  }
 ],
 "metadata": {
  "kernelspec": {
   "display_name": "Python 3 (ipykernel)",
   "language": "python",
   "name": "python3"
  },
  "language_info": {
   "codemirror_mode": {
    "name": "ipython",
    "version": 3
   },
   "file_extension": ".py",
   "mimetype": "text/x-python",
   "name": "python",
   "nbconvert_exporter": "python",
   "pygments_lexer": "ipython3",
   "version": "3.10.14"
  }
 },
 "nbformat": 4,
 "nbformat_minor": 5
}
