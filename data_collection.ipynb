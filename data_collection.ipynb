{
 "cells": [
  {
   "cell_type": "markdown",
   "metadata": {
    "id": "aSvQWUnnQ3Xr"
   },
   "source": [
    "## Импорт и установка библиотек"
   ]
  },
  {
   "cell_type": "code",
   "execution_count": 1,
   "metadata": {
    "colab": {
     "base_uri": "https://localhost:8080/"
    },
    "id": "2ufGktbY0x8A",
    "outputId": "a624e38e-a277-4e08-f2b1-bd09de549bc9"
   },
   "outputs": [],
   "source": [
    "#!pip install dbfread # file reader\n",
    "#!pip install patool # rar unarchiver"
   ]
  },
  {
   "cell_type": "code",
   "execution_count": 1,
   "metadata": {
    "id": "-g-Nt1wj1Jla"
   },
   "outputs": [],
   "source": [
    "import pandas as pd\n",
    "import patoolib\n",
    "import os\n",
    "import numpy as np\n",
    "import shutil\n",
    "\n",
    "from dbfread import DBF"
   ]
  },
  {
   "cell_type": "code",
   "execution_count": 2,
   "metadata": {
    "id": "Rgt2aOnXvqou"
   },
   "outputs": [],
   "source": [
    "def read_dbf(file):\n",
    "    return pd.DataFrame(iter(DBF(file, encoding='cp866')))"
   ]
  },
  {
   "cell_type": "markdown",
   "metadata": {},
   "source": [
    "## Разархивирование файлов"
   ]
  },
  {
   "cell_type": "markdown",
   "metadata": {
    "id": "sCecqha-RZHP"
   },
   "source": [
    "### Чтение файлов\n",
    "\n",
    "- Файл mmyyyy**_B.DBF**, где mmyyyy – отчетный месяц, отчетный год: Данные формы 0409101 по кредитным организациям, раскрывающим свою информацию в Интернет (в соответствии с Указанием Банка России от 27.03.1998 No192-У утратило силу в 2009 году)\n",
    "- Файл mmyyyy**B1.DBF**, где mmyyyy – отчетный месяц, отчетный год: Данные формы 0409101 по кредитным организациям, раскрывающим свою информацию в Интернет (в соответствии с письмом Банка России от 21.12.2006 No165-Т – в полном объеме и с оговоркой)\n",
    "- Файл mmyyyy**_N.DBF**, где mmyyyy – отчетный месяц, отчетный год: Перечень кредитных организаций, раскрывающих данные формы 0409101 в Интернет (в\n",
    "соответствии с Указанием Банка России от 27.03.1998 No192-У утратило силу в 2009 году)\n",
    "- Файл mmyyyy**N1.DBF**, где mmyyyy – отчетный месяц, отчетный год: Перечень кредитных организаций, раскрывающих данные формы 0409101 в Интернет (в соответствии с письмом Банка России от 21.12.2006 No165-Т – в полном объеме и с оговоркой)\n",
    "- Файл mmyyyy**_S.DBF**, где mmyyyy – отчетный месяц, отчетный год: Контрольная сумма для проверки корректности передачи информации в соответствии с Указанием Банка России от 27.03.1998 No192-У (утратило силу в 2009 году) (для проверки корректности передачи файла «mmyyyy_B.DBF»):\n",
    "- Файл mmyyyy**S1.DBF**, где mmyyyy – отчетный месяц, отчетный год: Контрольные суммы для проверки корректности передачи информации в соответствии с письмом Банка России от 21.12.2006 No165-Т (для проверки корректности передачи файла «mmyyyyB1.DBF»)\n",
    "- Файл NAMES.DBF: План счетов бухгалтерского учета в кредитных организациях\n"
   ]
  },
  {
   "cell_type": "code",
   "execution_count": 28,
   "metadata": {},
   "outputs": [],
   "source": [
    "df = pd.DataFrame()"
   ]
  },
  {
   "cell_type": "code",
   "execution_count": 29,
   "metadata": {},
   "outputs": [
    {
     "name": "stderr",
     "output_type": "stream",
     "text": [
      "INFO patool: ... creating output directory `data/802-20190701'.\n",
      "INFO patool: ... creating output directory `data/802-20180101'.\n",
      "INFO patool: ... creating output directory `data/802-20190101'.\n",
      "INFO patool: ... creating output directory `data/802-20180701'.\n",
      "INFO patool: ... creating output directory `data/802-20190401'.\n",
      "INFO patool: ... creating output directory `data/802-20201001'.\n",
      "INFO patool: ... creating output directory `data/802-20171001'.\n",
      "INFO patool: ... creating output directory `data/802-20180401'.\n",
      "INFO patool: ... creating output directory `data/802-20211001'.\n",
      "INFO patool: ... creating output directory `data/802-20200101'.\n",
      "INFO patool: ... creating output directory `data/802-20210701'.\n",
      "INFO patool: ... creating output directory `data/802-20200701'.\n",
      "INFO patool: ... creating output directory `data/802-20210101'.\n",
      "INFO patool: ... creating output directory `data/802-20181001'.\n",
      "INFO patool: ... creating output directory `data/802-20210401'.\n",
      "INFO patool: ... creating output directory `data/802-20191001'.\n",
      "INFO patool: ... creating output directory `data/802-20200401'.\n"
     ]
    }
   ],
   "source": [
    "for filename in os.listdir('data/rars'):\n",
    "    if not filename.startswith('.'):\n",
    "        name = filename.split('.')[0]\n",
    "\n",
    "        patoolib.extract_archive(f'data/rars/{filename}', outdir=f'data/{name}', verbosity=-1)\n",
    "        folder_contents = os.listdir(f'data/{name}')\n",
    "        filename = [fname for fname in folder_contents if fname.startswith('PK')][0]\n",
    "        frame = read_dbf(f'data/{name}/{filename}')\n",
    "        #names = read_dbf(f'data/{name}/F802META.DBF')\n",
    "        #frame = frame.merge(names[['NUM_SC', 'NAME']], on='NUM_SC')[chosen_columns]\n",
    "        date = name.split('-')[1]\n",
    "        frame = frame.rename(columns={\n",
    "            'KORR_P': 'KORR_P_'+date,\n",
    "            'KORR_M': 'KORR_M_'+date,\n",
    "            'VSEGO': 'VSEGO'+date\n",
    "        })\n",
    "        \n",
    "        df = pd.concat([df, frame], join='outer', axis=1)\n",
    "\n",
    "        shutil.rmtree(f'data/{name}')\n",
    "\n",
    "df = df.reset_index(drop=True)"
   ]
  },
  {
   "cell_type": "code",
   "execution_count": 30,
   "metadata": {},
   "outputs": [],
   "source": [
    "df.to_csv('data/df.csv')"
   ]
  },
  {
   "cell_type": "markdown",
   "metadata": {},
   "source": [
    "## Обработка показателей\n",
    "\n",
    "Рассматриваемые показатели:\n",
    "\n",
    "1) Отношение собственных средств к чистым активам\n",
    "2) Отношение резервов к чистым активам\n",
    "3) Чистые активы или их логарифм\n",
    "4) Отношение просроченной задолженности по ссудам к кредитам экономики\n",
    "5) Отношение просроченной задолженности по ссудам к обязательным резервам в ЦБ РФ\n",
    "6) Отношение оборотов по корреспондентским счетам за период времени к чистым активам\n",
    "7) Отношение балансовой прибыли к чистым активам\n",
    "8) Отношение чистой прибыли к чистым активам\n",
    "9) Норматив текущей ликвидности\n",
    "10) Отношение ликвидных активов к чистым активам\n",
    "11) Отношение депозитов физических лиц до 30 дней к депозитам физических лиц\n",
    "12) Отношение объема негосударственных ценных бумаг к чистым активам\n"
   ]
  },
  {
   "cell_type": "code",
   "execution_count": null,
   "metadata": {},
   "outputs": [],
   "source": []
  }
 ],
 "metadata": {
  "colab": {
   "provenance": []
  },
  "kernelspec": {
   "display_name": "Python 3 (ipykernel)",
   "language": "python",
   "name": "python3"
  },
  "language_info": {
   "codemirror_mode": {
    "name": "ipython",
    "version": 3
   },
   "file_extension": ".py",
   "mimetype": "text/x-python",
   "name": "python",
   "nbconvert_exporter": "python",
   "pygments_lexer": "ipython3",
   "version": "3.11.7"
  }
 },
 "nbformat": 4,
 "nbformat_minor": 4
}
