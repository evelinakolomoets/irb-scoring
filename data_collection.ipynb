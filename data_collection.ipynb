{
 "cells": [
  {
   "cell_type": "markdown",
   "metadata": {
    "id": "aSvQWUnnQ3Xr"
   },
   "source": [
    "## Импорт и установка библиотек"
   ]
  },
  {
   "cell_type": "code",
   "execution_count": 1,
   "metadata": {
    "colab": {
     "base_uri": "https://localhost:8080/"
    },
    "id": "2ufGktbY0x8A",
    "outputId": "a624e38e-a277-4e08-f2b1-bd09de549bc9"
   },
   "outputs": [],
   "source": [
    "#!pip install dbfread # file reader\n",
    "#!pip install patool # rar unarchiver"
   ]
  },
  {
   "cell_type": "code",
   "execution_count": 2,
   "metadata": {
    "id": "-g-Nt1wj1Jla"
   },
   "outputs": [],
   "source": [
    "import pandas as pd\n",
    "import patoolib\n",
    "import os\n",
    "import numpy as np\n",
    "import shutil\n",
    "\n",
    "from dbfread import DBF"
   ]
  },
  {
   "cell_type": "code",
   "execution_count": 3,
   "metadata": {
    "id": "Rgt2aOnXvqou"
   },
   "outputs": [],
   "source": [
    "def read_dbf(file):\n",
    "    return pd.DataFrame(iter(DBF(file, encoding='cp866')))"
   ]
  },
  {
   "cell_type": "markdown",
   "metadata": {},
   "source": [
    "## Разархивирование файлов"
   ]
  },
  {
   "cell_type": "markdown",
   "metadata": {
    "id": "sCecqha-RZHP"
   },
   "source": [
    "### Чтение файлов\n",
    "\n",
    "- Файл mmyyyy**_B.DBF**, где mmyyyy – отчетный месяц, отчетный год: Данные формы 0409101 по кредитным организациям, раскрывающим свою информацию в Интернет (в соответствии с Указанием Банка России от 27.03.1998 No192-У утратило силу в 2009 году)\n",
    "- Файл mmyyyy**B1.DBF**, где mmyyyy – отчетный месяц, отчетный год: Данные формы 0409101 по кредитным организациям, раскрывающим свою информацию в Интернет (в соответствии с письмом Банка России от 21.12.2006 No165-Т – в полном объеме и с оговоркой)\n",
    "- Файл mmyyyy**_N.DBF**, где mmyyyy – отчетный месяц, отчетный год: Перечень кредитных организаций, раскрывающих данные формы 0409101 в Интернет (в\n",
    "соответствии с Указанием Банка России от 27.03.1998 No192-У утратило силу в 2009 году)\n",
    "- Файл mmyyyy**N1.DBF**, где mmyyyy – отчетный месяц, отчетный год: Перечень кредитных организаций, раскрывающих данные формы 0409101 в Интернет (в соответствии с письмом Банка России от 21.12.2006 No165-Т – в полном объеме и с оговоркой)\n",
    "- Файл mmyyyy**_S.DBF**, где mmyyyy – отчетный месяц, отчетный год: Контрольная сумма для проверки корректности передачи информации в соответствии с Указанием Банка России от 27.03.1998 No192-У (утратило силу в 2009 году) (для проверки корректности передачи файла «mmyyyy_B.DBF»):\n",
    "- Файл mmyyyy**S1.DBF**, где mmyyyy – отчетный месяц, отчетный год: Контрольные суммы для проверки корректности передачи информации в соответствии с письмом Банка России от 21.12.2006 No165-Т (для проверки корректности передачи файла «mmyyyyB1.DBF»)\n",
    "- Файл NAMES.DBF: План счетов бухгалтерского учета в кредитных организациях\n"
   ]
  },
  {
   "cell_type": "code",
   "execution_count": 4,
   "metadata": {},
   "outputs": [],
   "source": [
    "df = pd.DataFrame()"
   ]
  },
  {
   "cell_type": "code",
   "execution_count": 5,
   "metadata": {},
   "outputs": [],
   "source": [
    "chosen_columns = [\n",
    "    'REGN', # рег номер\n",
    "    'PLAN', # глава плана счетов (активы (А), ДУ (Б), внебаланс (В), срочные (Г), депо (Д))\n",
    "    'NUM_SC', # номер счета второго порядка по Плану счетов бухгалтерского учета в кредитных организациях\n",
    "    'A_P', # 1 - актив, 2 - пассив\n",
    "    'IITG', # исходящие остатки \"итого\", в рублях; для депо в штуках\n",
    "    'DT', # отчетная дата\n",
    "    'PRIZ', # признак категории раскрытия информации: 1 – полный объем; 2 – исходящие остатки «в рублях», «ин. вал., драг. металлы», «итого»\n",
    "    'NAME' # текстовое название счета в плане счетов\n",
    "]"
   ]
  },
  {
   "cell_type": "code",
   "execution_count": 6,
   "metadata": {},
   "outputs": [
    {
     "name": "stderr",
     "output_type": "stream",
     "text": [
      "INFO patool: ... creating output directory `data/101-20150501'.\n",
      "INFO patool: ... creating output directory `data/101-20100901'.\n",
      "INFO patool: ... creating output directory `data/101-20130801'.\n",
      "INFO patool: ... creating output directory `data/101-20140101'.\n",
      "INFO patool: ... creating output directory `data/101-20101001'.\n",
      "INFO patool: ... creating output directory `data/101-20131101'.\n",
      "INFO patool: ... creating output directory `data/101-20101201'.\n",
      "INFO patool: ... creating output directory `data/101-20140301'.\n",
      "INFO patool: ... creating output directory `data/101-20150701'.\n",
      "INFO patool: ... creating output directory `data/101-20111201'.\n",
      "INFO patool: ... creating output directory `data/101-20150301'.\n",
      "INFO patool: ... creating output directory `data/101-20140701'.\n",
      "INFO patool: ... creating output directory `data/101-20140501'.\n",
      "INFO patool: ... creating output directory `data/101-20110901'.\n",
      "INFO patool: ... creating output directory `data/101-20120801'.\n",
      "INFO patool: ... creating output directory `data/101-20150101'.\n",
      "INFO patool: ... creating output directory `data/101-20111001'.\n",
      "INFO patool: ... creating output directory `data/101-20121101'.\n",
      "INFO patool: ... creating output directory `data/101-20140201'.\n",
      "INFO patool: ... creating output directory `data/101-20131201'.\n",
      "INFO patool: ... creating output directory `data/101-20150601'.\n",
      "INFO patool: ... creating output directory `data/101-20100801'.\n",
      "INFO patool: ... creating output directory `data/101-20130901'.\n",
      "INFO patool: ... creating output directory `data/101-20150401'.\n",
      "INFO patool: ... creating output directory `data/101-20101101'.\n",
      "INFO patool: ... creating output directory `data/101-20131001'.\n",
      "INFO patool: ... creating output directory `data/101-20110801'.\n",
      "INFO patool: ... creating output directory `data/101-20120901'.\n",
      "INFO patool: ... creating output directory `data/101-20140401'.\n",
      "INFO patool: ... creating output directory `data/101-20111101'.\n",
      "INFO patool: ... creating output directory `data/101-20121001'.\n",
      "INFO patool: ... creating output directory `data/101-20150201'.\n",
      "INFO patool: ... creating output directory `data/101-20121201'.\n",
      "INFO patool: ... creating output directory `data/101-20140601'.\n",
      "INFO patool: ... creating output directory `data/101-20120701'.\n",
      "INFO patool: ... creating output directory `data/101-20110601'.\n",
      "INFO patool: ... creating output directory `data/101-20100201'.\n",
      "INFO patool: ... creating output directory `data/101-20130301'.\n",
      "INFO patool: ... creating output directory `data/101-20141101'.\n",
      "INFO patool: ... creating output directory `data/101-20130101'.\n",
      "INFO patool: ... creating output directory `data/101-20140801'.\n",
      "INFO patool: ... creating output directory `data/101-20110401'.\n",
      "INFO patool: ... creating output directory `data/101-20120501'.\n",
      "INFO patool: ... creating output directory `data/101-20151101'.\n",
      "INFO patool: ... creating output directory `data/101-20120101'.\n",
      "INFO patool: ... creating output directory `data/101-20150801'.\n",
      "INFO patool: ... creating output directory `data/101-20100401'.\n",
      "INFO patool: ... creating output directory `data/101-20130501'.\n",
      "INFO patool: ... creating output directory `data/101-20130701'.\n",
      "INFO patool: ... creating output directory `data/101-20100601'.\n",
      "INFO patool: ... creating output directory `data/101-20110201'.\n",
      "INFO patool: ... creating output directory `data/101-20120301'.\n",
      "INFO patool: ... creating output directory `data/101-20141001'.\n",
      "INFO patool: ... creating output directory `data/101-20110501'.\n",
      "INFO patool: ... creating output directory `data/101-20120401'.\n",
      "INFO patool: ... creating output directory `data/101-20140901'.\n",
      "INFO patool: ... creating output directory `data/101-20120601'.\n",
      "INFO patool: ... creating output directory `data/101-20110701'.\n",
      "INFO patool: ... creating output directory `data/101-20141201'.\n",
      "INFO patool: ... creating output directory `data/101-20100301'.\n",
      "INFO patool: ... creating output directory `data/101-20130201'.\n",
      "INFO patool: ... creating output directory `data/101-20130601'.\n",
      "INFO patool: ... creating output directory `data/101-20100701'.\n",
      "INFO patool: ... creating output directory `data/101-20151201'.\n",
      "INFO patool: ... creating output directory `data/101-20110301'.\n",
      "INFO patool: ... creating output directory `data/101-20120201'.\n",
      "INFO patool: ... creating output directory `data/101-20110101'.\n",
      "INFO patool: ... creating output directory `data/101-20151001'.\n",
      "INFO patool: ... creating output directory `data/101-20100501'.\n",
      "INFO patool: ... creating output directory `data/101-20130401'.\n",
      "INFO patool: ... creating output directory `data/101-20150901'.\n"
     ]
    }
   ],
   "source": [
    "for filename in os.listdir('data/rars'):\n",
    "    if not filename.startswith('.'):\n",
    "        name = filename.split('.')[0]\n",
    "\n",
    "        patoolib.extract_archive(f'data/rars/{filename}', outdir=f'data/{name}', verbosity=-1)\n",
    "        folder_contents = os.listdir(f'data/{name}')\n",
    "        filename = [fname for fname in folder_contents if fname.endswith('B1.DBF')][0]\n",
    "        frame = read_dbf(f'data/{name}/{filename}')\n",
    "        names = read_dbf(f'data/{name}/NAMES.DBF')\n",
    "        frame = frame.merge(names[['NUM_SC', 'NAME']], on='NUM_SC')[chosen_columns]\n",
    "        df = pd.concat([df, frame])\n",
    "\n",
    "        shutil.rmtree(f'data/{name}')\n",
    "\n",
    "df = df.reset_index(drop=True)"
   ]
  },
  {
   "cell_type": "code",
   "execution_count": 26,
   "metadata": {},
   "outputs": [],
   "source": [
    "df.to_csv('data/df.csv')"
   ]
  }
 ],
 "metadata": {
  "colab": {
   "provenance": []
  },
  "kernelspec": {
   "display_name": "Python 3 (ipykernel)",
   "language": "python",
   "name": "python3"
  },
  "language_info": {
   "codemirror_mode": {
    "name": "ipython",
    "version": 3
   },
   "file_extension": ".py",
   "mimetype": "text/x-python",
   "name": "python",
   "nbconvert_exporter": "python",
   "pygments_lexer": "ipython3",
   "version": "3.11.7"
  }
 },
 "nbformat": 4,
 "nbformat_minor": 4
}
